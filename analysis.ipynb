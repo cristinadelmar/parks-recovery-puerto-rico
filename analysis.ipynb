{
 "cells": [
  {
   "attachments": {},
   "cell_type": "markdown",
   "id": "6e91cdc3",
   "metadata": {},
   "source": [
    "# No Park to Go"
   ]
  },
  {
   "attachments": {},
   "cell_type": "markdown",
   "id": "b204dc1e",
   "metadata": {},
   "source": [
    "### Almost 6 years after Hurricane María Struck the archipielago of Puerto Rico, my community of Santa Juana, in the center-eastern town of Caguas, still waits for the reparation of its cultural center and its park. "
   ]
  },
  {
   "cell_type": "code",
   "execution_count": 19,
   "id": "02995864",
   "metadata": {},
   "outputs": [],
   "source": [
    "import pandas as pd"
   ]
  },
  {
   "cell_type": "code",
   "execution_count": 20,
   "id": "86404f65",
   "metadata": {},
   "outputs": [],
   "source": [
    "\n",
    "#I want to know how much money from FEMA has been disbursed for projects for reconstruction \n",
    "# of parks and recreational facilities in the municipalities of Puerto Rico and what other facilities are in the same \n",
    "#situation as my community\n",
    "#data downloaded from the Puerto Rico Disaster Recovery Transparency Portal\n",
    "\n",
    "df = pd.read_csv('Table1_Obligated_Projects.csv')"
   ]
  },
  {
   "cell_type": "code",
   "execution_count": 21,
   "id": "22649535",
   "metadata": {},
   "outputs": [
    {
     "data": {
      "text/html": [
       "<div>\n",
       "<style scoped>\n",
       "    .dataframe tbody tr th:only-of-type {\n",
       "        vertical-align: middle;\n",
       "    }\n",
       "\n",
       "    .dataframe tbody tr th {\n",
       "        vertical-align: top;\n",
       "    }\n",
       "\n",
       "    .dataframe thead th {\n",
       "        text-align: right;\n",
       "    }\n",
       "</style>\n",
       "<table border=\"1\" class=\"dataframe\">\n",
       "  <thead>\n",
       "    <tr style=\"text-align: right;\">\n",
       "      <th></th>\n",
       "      <th>pw_number</th>\n",
       "      <th>version</th>\n",
       "      <th>disaster_name</th>\n",
       "      <th>applicant_name</th>\n",
       "      <th>applicant_abbreviation</th>\n",
       "      <th>applicant_type</th>\n",
       "      <th>FEMA_branch</th>\n",
       "      <th>sector</th>\n",
       "      <th>category</th>\n",
       "      <th>pw_description</th>\n",
       "      <th>obligated_date</th>\n",
       "      <th>latest_payment _date</th>\n",
       "      <th>obligated_amount</th>\n",
       "      <th>disbursed_amount</th>\n",
       "      <th>cost_share</th>\n",
       "      <th>project_cost</th>\n",
       "      <th>last_update_date</th>\n",
       "    </tr>\n",
       "  </thead>\n",
       "  <tbody>\n",
       "    <tr>\n",
       "      <th>0</th>\n",
       "      <td>PA-02-PR-4339-PW-00862</td>\n",
       "      <td>0</td>\n",
       "      <td>Hurricane Maria (4339)</td>\n",
       "      <td>Aguada</td>\n",
       "      <td>NaN</td>\n",
       "      <td>Municipality</td>\n",
       "      <td>Branch II - North</td>\n",
       "      <td>Municipalities</td>\n",
       "      <td>Category G - Parks, Recreational, Others</td>\n",
       "      <td>107804 - MAOM999 - Architectural and Engineeri...</td>\n",
       "      <td>12/03/2018</td>\n",
       "      <td>NaN</td>\n",
       "      <td>1838887</td>\n",
       "      <td>0</td>\n",
       "      <td>204321</td>\n",
       "      <td>2043208</td>\n",
       "      <td>06/20/2023</td>\n",
       "    </tr>\n",
       "    <tr>\n",
       "      <th>1</th>\n",
       "      <td>PA-02-PR-4339-PW-00862</td>\n",
       "      <td>1</td>\n",
       "      <td>Hurricane Maria (4339)</td>\n",
       "      <td>Aguada</td>\n",
       "      <td>NaN</td>\n",
       "      <td>Municipality</td>\n",
       "      <td>Branch II - North</td>\n",
       "      <td>Municipalities</td>\n",
       "      <td>Category G - Parks, Recreational, Others</td>\n",
       "      <td>107804 - MAOM999 - Architectural and Engineeri...</td>\n",
       "      <td>06/16/2020</td>\n",
       "      <td>NaN</td>\n",
       "      <td>-1838887</td>\n",
       "      <td>0</td>\n",
       "      <td>-204321</td>\n",
       "      <td>-2043208</td>\n",
       "      <td>06/20/2023</td>\n",
       "    </tr>\n",
       "    <tr>\n",
       "      <th>2</th>\n",
       "      <td>PA-02-PR-4339-PW-00863</td>\n",
       "      <td>0</td>\n",
       "      <td>Hurricane Maria (4339)</td>\n",
       "      <td>Las Marías</td>\n",
       "      <td>NaN</td>\n",
       "      <td>Municipality</td>\n",
       "      <td>Branch IV - South</td>\n",
       "      <td>Municipalities</td>\n",
       "      <td>Category G - Parks, Recreational, Others</td>\n",
       "      <td>107827 - MLAS999 Architectural and Engineering...</td>\n",
       "      <td>12/03/2018</td>\n",
       "      <td>NaN</td>\n",
       "      <td>1056622</td>\n",
       "      <td>0</td>\n",
       "      <td>117402</td>\n",
       "      <td>1174024</td>\n",
       "      <td>06/20/2023</td>\n",
       "    </tr>\n",
       "    <tr>\n",
       "      <th>3</th>\n",
       "      <td>PA-02-PR-4339-PW-00863</td>\n",
       "      <td>1</td>\n",
       "      <td>Hurricane Maria (4339)</td>\n",
       "      <td>Las Marías</td>\n",
       "      <td>NaN</td>\n",
       "      <td>Municipality</td>\n",
       "      <td>Branch IV - South</td>\n",
       "      <td>Municipalities</td>\n",
       "      <td>Category G - Parks, Recreational, Others</td>\n",
       "      <td>107827 - MLAS999 Architectural and Engineering...</td>\n",
       "      <td>10/28/2020</td>\n",
       "      <td>NaN</td>\n",
       "      <td>-1056622</td>\n",
       "      <td>0</td>\n",
       "      <td>-117402</td>\n",
       "      <td>-1174024</td>\n",
       "      <td>06/20/2023</td>\n",
       "    </tr>\n",
       "    <tr>\n",
       "      <th>4</th>\n",
       "      <td>PA-02-PR-4339-PW-00865</td>\n",
       "      <td>0</td>\n",
       "      <td>Hurricane Maria (4339)</td>\n",
       "      <td>Cabo Rojo</td>\n",
       "      <td></td>\n",
       "      <td>Municipality</td>\n",
       "      <td>Branch IV - South</td>\n",
       "      <td>Municipalities</td>\n",
       "      <td>Category G - Parks, Recreational, Others</td>\n",
       "      <td>69209 - MCAB999 Architectural and Engineering ...</td>\n",
       "      <td>10/16/2018</td>\n",
       "      <td>NaN</td>\n",
       "      <td>397426</td>\n",
       "      <td>0</td>\n",
       "      <td>44158</td>\n",
       "      <td>441584</td>\n",
       "      <td>06/20/2023</td>\n",
       "    </tr>\n",
       "  </tbody>\n",
       "</table>\n",
       "</div>"
      ],
      "text/plain": [
       "                pw_number  version           disaster_name applicant_name  \\\n",
       "0  PA-02-PR-4339-PW-00862        0  Hurricane Maria (4339)         Aguada   \n",
       "1  PA-02-PR-4339-PW-00862        1  Hurricane Maria (4339)         Aguada   \n",
       "2  PA-02-PR-4339-PW-00863        0  Hurricane Maria (4339)     Las Marías   \n",
       "3  PA-02-PR-4339-PW-00863        1  Hurricane Maria (4339)     Las Marías   \n",
       "4  PA-02-PR-4339-PW-00865        0  Hurricane Maria (4339)      Cabo Rojo   \n",
       "\n",
       "  applicant_abbreviation applicant_type        FEMA_branch          sector  \\\n",
       "0                    NaN   Municipality  Branch II - North  Municipalities   \n",
       "1                    NaN   Municipality  Branch II - North  Municipalities   \n",
       "2                    NaN   Municipality  Branch IV - South  Municipalities   \n",
       "3                    NaN   Municipality  Branch IV - South  Municipalities   \n",
       "4                          Municipality  Branch IV - South  Municipalities   \n",
       "\n",
       "                                   category  \\\n",
       "0  Category G - Parks, Recreational, Others   \n",
       "1  Category G - Parks, Recreational, Others   \n",
       "2  Category G - Parks, Recreational, Others   \n",
       "3  Category G - Parks, Recreational, Others   \n",
       "4  Category G - Parks, Recreational, Others   \n",
       "\n",
       "                                      pw_description obligated_date  \\\n",
       "0  107804 - MAOM999 - Architectural and Engineeri...     12/03/2018   \n",
       "1  107804 - MAOM999 - Architectural and Engineeri...     06/16/2020   \n",
       "2  107827 - MLAS999 Architectural and Engineering...     12/03/2018   \n",
       "3  107827 - MLAS999 Architectural and Engineering...     10/28/2020   \n",
       "4  69209 - MCAB999 Architectural and Engineering ...     10/16/2018   \n",
       "\n",
       "  latest_payment _date  obligated_amount  disbursed_amount  cost_share  \\\n",
       "0                  NaN           1838887                 0      204321   \n",
       "1                  NaN          -1838887                 0     -204321   \n",
       "2                  NaN           1056622                 0      117402   \n",
       "3                  NaN          -1056622                 0     -117402   \n",
       "4                  NaN            397426                 0       44158   \n",
       "\n",
       "   project_cost last_update_date  \n",
       "0       2043208       06/20/2023  \n",
       "1      -2043208       06/20/2023  \n",
       "2       1174024       06/20/2023  \n",
       "3      -1174024       06/20/2023  \n",
       "4        441584       06/20/2023  "
      ]
     },
     "execution_count": 21,
     "metadata": {},
     "output_type": "execute_result"
    }
   ],
   "source": [
    "df.head()"
   ]
  },
  {
   "attachments": {},
   "cell_type": "markdown",
   "id": "b2401cf3",
   "metadata": {},
   "source": [
    "### Checking the data"
   ]
  },
  {
   "cell_type": "code",
   "execution_count": 22,
   "id": "bffc628a",
   "metadata": {},
   "outputs": [
    {
     "data": {
      "text/plain": [
       "(2339, 17)"
      ]
     },
     "execution_count": 22,
     "metadata": {},
     "output_type": "execute_result"
    }
   ],
   "source": [
    "df.shape"
   ]
  },
  {
   "cell_type": "code",
   "execution_count": 23,
   "id": "cd3decf0",
   "metadata": {},
   "outputs": [
    {
     "name": "stdout",
     "output_type": "stream",
     "text": [
      "<class 'pandas.core.frame.DataFrame'>\n",
      "RangeIndex: 2339 entries, 0 to 2338\n",
      "Data columns (total 17 columns):\n",
      " #   Column                  Non-Null Count  Dtype \n",
      "---  ------                  --------------  ----- \n",
      " 0   pw_number               2339 non-null   object\n",
      " 1   version                 2339 non-null   int64 \n",
      " 2   disaster_name           2339 non-null   object\n",
      " 3   applicant_name          2339 non-null   object\n",
      " 4   applicant_abbreviation  146 non-null    object\n",
      " 5   applicant_type          2339 non-null   object\n",
      " 6   FEMA_branch             2339 non-null   object\n",
      " 7   sector                  2339 non-null   object\n",
      " 8   category                2339 non-null   object\n",
      " 9   pw_description          2339 non-null   object\n",
      " 10  obligated_date          2339 non-null   object\n",
      " 11  latest_payment _date    1568 non-null   object\n",
      " 12  obligated_amount        2339 non-null   int64 \n",
      " 13  disbursed_amount        2339 non-null   int64 \n",
      " 14  cost_share              2339 non-null   int64 \n",
      " 15  project_cost            2339 non-null   int64 \n",
      " 16  last_update_date        2339 non-null   object\n",
      "dtypes: int64(5), object(12)\n",
      "memory usage: 310.8+ KB\n"
     ]
    }
   ],
   "source": [
    "df.info()"
   ]
  },
  {
   "cell_type": "code",
   "execution_count": 24,
   "id": "1b4ee03a",
   "metadata": {},
   "outputs": [],
   "source": [
    "# The Category G of FEMA's Public Assistance Program groups all obligated the projects related to parks \n",
    "# and recreational facilities.  "
   ]
  },
  {
   "attachments": {},
   "cell_type": "markdown",
   "id": "9773ef75",
   "metadata": {},
   "source": [
    "#### How many projects are in the Category G of FEMA's Public Assistance?"
   ]
  },
  {
   "cell_type": "code",
   "execution_count": 27,
   "id": "161a2b44",
   "metadata": {},
   "outputs": [
    {
     "data": {
      "text/plain": [
       "<bound method IndexOpsMixin.value_counts of 0       Category G - Parks, Recreational, Others\n",
       "1       Category G - Parks, Recreational, Others\n",
       "2       Category G - Parks, Recreational, Others\n",
       "3       Category G - Parks, Recreational, Others\n",
       "4       Category G - Parks, Recreational, Others\n",
       "                          ...                   \n",
       "2334    Category G - Parks, Recreational, Others\n",
       "2335    Category G - Parks, Recreational, Others\n",
       "2336    Category G - Parks, Recreational, Others\n",
       "2337    Category G - Parks, Recreational, Others\n",
       "2338    Category G - Parks, Recreational, Others\n",
       "Name: category, Length: 2339, dtype: object>"
      ]
     },
     "execution_count": 27,
     "metadata": {},
     "output_type": "execute_result"
    }
   ],
   "source": [
    "df.category.value_counts"
   ]
  },
  {
   "attachments": {},
   "cell_type": "markdown",
   "id": "1ddf34fc",
   "metadata": {},
   "source": [
    "#### Puerto Rico has a total of 78 municipalities. How many municipalities have projects?"
   ]
  },
  {
   "cell_type": "code",
   "execution_count": 29,
   "id": "b352fa1a",
   "metadata": {},
   "outputs": [
    {
     "data": {
      "text/plain": [
       "applicant_name\n",
       "Ponce           126\n",
       "San Juan        113\n",
       "Juana Díaz      110\n",
       "Arecibo          98\n",
       "Santa Isabel     97\n",
       "               ... \n",
       "Florida           9\n",
       "Humacao           9\n",
       "Naranjito         6\n",
       "Culebra           5\n",
       "Yauco             5\n",
       "Name: count, Length: 78, dtype: int64"
      ]
     },
     "execution_count": 29,
     "metadata": {},
     "output_type": "execute_result"
    }
   ],
   "source": [
    "#That information is in the column \"Applicant Name\"\n",
    "df.applicant_name.value_counts()"
   ]
  },
  {
   "cell_type": "code",
   "execution_count": null,
   "id": "dd2ae2ca",
   "metadata": {},
   "outputs": [],
   "source": [
    "#All municipalities have projects. Ponce is the municipality with the most projects."
   ]
  },
  {
   "attachments": {},
   "cell_type": "markdown",
   "id": "1be9dd02",
   "metadata": {},
   "source": [
    "### Cleaning\n",
    "#### It seems like some projects have more than one version. For each project, the higher number under the column \"version\" is the most recent version. That's the version I want to use.  "
   ]
  },
  {
   "cell_type": "code",
   "execution_count": null,
   "id": "a9a582cc",
   "metadata": {},
   "outputs": [],
   "source": [
    "#Filter the rows based on the maximum values in column version each unique string in column pw_number\n",
    "#Save all of them in a variable\n",
    "#Make a new csv with only this data"
   ]
  },
  {
   "cell_type": "code",
   "execution_count": 39,
   "id": "a8791bf7",
   "metadata": {},
   "outputs": [
    {
     "data": {
      "text/html": [
       "<div>\n",
       "<style scoped>\n",
       "    .dataframe tbody tr th:only-of-type {\n",
       "        vertical-align: middle;\n",
       "    }\n",
       "\n",
       "    .dataframe tbody tr th {\n",
       "        vertical-align: top;\n",
       "    }\n",
       "\n",
       "    .dataframe thead th {\n",
       "        text-align: right;\n",
       "    }\n",
       "</style>\n",
       "<table border=\"1\" class=\"dataframe\">\n",
       "  <thead>\n",
       "    <tr style=\"text-align: right;\">\n",
       "      <th></th>\n",
       "      <th>pw_number</th>\n",
       "      <th>version</th>\n",
       "      <th>disaster_name</th>\n",
       "      <th>applicant_name</th>\n",
       "      <th>applicant_abbreviation</th>\n",
       "      <th>applicant_type</th>\n",
       "      <th>FEMA_branch</th>\n",
       "      <th>sector</th>\n",
       "      <th>category</th>\n",
       "      <th>pw_description</th>\n",
       "      <th>obligated_date</th>\n",
       "      <th>latest_payment _date</th>\n",
       "      <th>obligated_amount</th>\n",
       "      <th>disbursed_amount</th>\n",
       "      <th>cost_share</th>\n",
       "      <th>project_cost</th>\n",
       "      <th>last_update_date</th>\n",
       "    </tr>\n",
       "  </thead>\n",
       "  <tbody>\n",
       "    <tr>\n",
       "      <th>1</th>\n",
       "      <td>PA-02-PR-4339-PW-00862</td>\n",
       "      <td>1</td>\n",
       "      <td>Hurricane Maria (4339)</td>\n",
       "      <td>Aguada</td>\n",
       "      <td>NaN</td>\n",
       "      <td>Municipality</td>\n",
       "      <td>Branch II - North</td>\n",
       "      <td>Municipalities</td>\n",
       "      <td>Category G - Parks, Recreational, Others</td>\n",
       "      <td>107804 - MAOM999 - Architectural and Engineeri...</td>\n",
       "      <td>06/16/2020</td>\n",
       "      <td>NaN</td>\n",
       "      <td>-1838887</td>\n",
       "      <td>0</td>\n",
       "      <td>-204321</td>\n",
       "      <td>-2043208</td>\n",
       "      <td>06/20/2023</td>\n",
       "    </tr>\n",
       "    <tr>\n",
       "      <th>3</th>\n",
       "      <td>PA-02-PR-4339-PW-00863</td>\n",
       "      <td>1</td>\n",
       "      <td>Hurricane Maria (4339)</td>\n",
       "      <td>Las Marías</td>\n",
       "      <td>NaN</td>\n",
       "      <td>Municipality</td>\n",
       "      <td>Branch IV - South</td>\n",
       "      <td>Municipalities</td>\n",
       "      <td>Category G - Parks, Recreational, Others</td>\n",
       "      <td>107827 - MLAS999 Architectural and Engineering...</td>\n",
       "      <td>10/28/2020</td>\n",
       "      <td>NaN</td>\n",
       "      <td>-1056622</td>\n",
       "      <td>0</td>\n",
       "      <td>-117402</td>\n",
       "      <td>-1174024</td>\n",
       "      <td>06/20/2023</td>\n",
       "    </tr>\n",
       "    <tr>\n",
       "      <th>5</th>\n",
       "      <td>PA-02-PR-4339-PW-00865</td>\n",
       "      <td>1</td>\n",
       "      <td>Hurricane Maria (4339)</td>\n",
       "      <td>Cabo Rojo</td>\n",
       "      <td></td>\n",
       "      <td>Municipality</td>\n",
       "      <td>Branch IV - South</td>\n",
       "      <td>Municipalities</td>\n",
       "      <td>Category G - Parks, Recreational, Others</td>\n",
       "      <td>69209 - MCAB999 Architectural and Engineering ...</td>\n",
       "      <td>06/02/2020</td>\n",
       "      <td>NaN</td>\n",
       "      <td>-397426</td>\n",
       "      <td>0</td>\n",
       "      <td>-44158</td>\n",
       "      <td>-441584</td>\n",
       "      <td>06/20/2023</td>\n",
       "    </tr>\n",
       "    <tr>\n",
       "      <th>7</th>\n",
       "      <td>PA-02-PR-4339-PW-00867</td>\n",
       "      <td>1</td>\n",
       "      <td>Hurricane Maria (4339)</td>\n",
       "      <td>Lajas</td>\n",
       "      <td>NaN</td>\n",
       "      <td>Municipality</td>\n",
       "      <td>Branch IV - South</td>\n",
       "      <td>Municipalities</td>\n",
       "      <td>Category G - Parks, Recreational, Others</td>\n",
       "      <td>107844 - MLAJ999 Architectural and Engineering...</td>\n",
       "      <td>02/09/2021</td>\n",
       "      <td>NaN</td>\n",
       "      <td>-507175</td>\n",
       "      <td>0</td>\n",
       "      <td>-56353</td>\n",
       "      <td>-563528</td>\n",
       "      <td>06/20/2023</td>\n",
       "    </tr>\n",
       "    <tr>\n",
       "      <th>9</th>\n",
       "      <td>PA-02-PR-4339-PW-00868</td>\n",
       "      <td>1</td>\n",
       "      <td>Hurricane Maria (4339)</td>\n",
       "      <td>Rincón</td>\n",
       "      <td>NaN</td>\n",
       "      <td>Municipality</td>\n",
       "      <td>Branch II - North</td>\n",
       "      <td>Municipalities</td>\n",
       "      <td>Category G - Parks, Recreational, Others</td>\n",
       "      <td>107857 - MRIN999 Architectural and Engineering...</td>\n",
       "      <td>06/07/2020</td>\n",
       "      <td>NaN</td>\n",
       "      <td>-1005670</td>\n",
       "      <td>0</td>\n",
       "      <td>-111741</td>\n",
       "      <td>-1117411</td>\n",
       "      <td>06/20/2023</td>\n",
       "    </tr>\n",
       "  </tbody>\n",
       "</table>\n",
       "</div>"
      ],
      "text/plain": [
       "                pw_number  version           disaster_name applicant_name  \\\n",
       "1  PA-02-PR-4339-PW-00862        1  Hurricane Maria (4339)         Aguada   \n",
       "3  PA-02-PR-4339-PW-00863        1  Hurricane Maria (4339)     Las Marías   \n",
       "5  PA-02-PR-4339-PW-00865        1  Hurricane Maria (4339)      Cabo Rojo   \n",
       "7  PA-02-PR-4339-PW-00867        1  Hurricane Maria (4339)          Lajas   \n",
       "9  PA-02-PR-4339-PW-00868        1  Hurricane Maria (4339)         Rincón   \n",
       "\n",
       "  applicant_abbreviation applicant_type        FEMA_branch          sector  \\\n",
       "1                    NaN   Municipality  Branch II - North  Municipalities   \n",
       "3                    NaN   Municipality  Branch IV - South  Municipalities   \n",
       "5                          Municipality  Branch IV - South  Municipalities   \n",
       "7                    NaN   Municipality  Branch IV - South  Municipalities   \n",
       "9                    NaN   Municipality  Branch II - North  Municipalities   \n",
       "\n",
       "                                   category  \\\n",
       "1  Category G - Parks, Recreational, Others   \n",
       "3  Category G - Parks, Recreational, Others   \n",
       "5  Category G - Parks, Recreational, Others   \n",
       "7  Category G - Parks, Recreational, Others   \n",
       "9  Category G - Parks, Recreational, Others   \n",
       "\n",
       "                                      pw_description obligated_date  \\\n",
       "1  107804 - MAOM999 - Architectural and Engineeri...     06/16/2020   \n",
       "3  107827 - MLAS999 Architectural and Engineering...     10/28/2020   \n",
       "5  69209 - MCAB999 Architectural and Engineering ...     06/02/2020   \n",
       "7  107844 - MLAJ999 Architectural and Engineering...     02/09/2021   \n",
       "9  107857 - MRIN999 Architectural and Engineering...     06/07/2020   \n",
       "\n",
       "  latest_payment _date  obligated_amount  disbursed_amount  cost_share  \\\n",
       "1                  NaN          -1838887                 0     -204321   \n",
       "3                  NaN          -1056622                 0     -117402   \n",
       "5                  NaN           -397426                 0      -44158   \n",
       "7                  NaN           -507175                 0      -56353   \n",
       "9                  NaN          -1005670                 0     -111741   \n",
       "\n",
       "   project_cost last_update_date  \n",
       "1      -2043208       06/20/2023  \n",
       "3      -1174024       06/20/2023  \n",
       "5       -441584       06/20/2023  \n",
       "7       -563528       06/20/2023  \n",
       "9      -1117411       06/20/2023  "
      ]
     },
     "execution_count": 39,
     "metadata": {},
     "output_type": "execute_result"
    }
   ],
   "source": [
    "#Filter the rows based on the maximum values in column version each unique string in column pw_number\n",
    "most_recent_pwversion = df.loc[df.groupby('pw_number')['version'].idxmax()]\n",
    "most_recent_pwversion.head()"
   ]
  },
  {
   "cell_type": "code",
   "execution_count": 40,
   "id": "dab522ad",
   "metadata": {},
   "outputs": [
    {
     "data": {
      "text/plain": [
       "pw_number\n",
       "PA-02-PR-4339-PW-00862    1\n",
       "PA-02-PR-4339-PW-06776    1\n",
       "PA-02-PR-4339-PW-06827    1\n",
       "PA-02-PR-4339-PW-06820    1\n",
       "PA-02-PR-4339-PW-06819    1\n",
       "                         ..\n",
       "PA-02-PR-4339-PW-04456    1\n",
       "PA-02-PR-4339-PW-04455    1\n",
       "PA-02-PR-4339-PW-04454    1\n",
       "PA-02-PR-4339-PW-04451    1\n",
       "PA-02-PR-4339-PW-11370    1\n",
       "Name: count, Length: 2006, dtype: int64"
      ]
     },
     "execution_count": 40,
     "metadata": {},
     "output_type": "execute_result"
    }
   ],
   "source": [
    "#Confirming I don't have pw_numbers repeated.\n",
    "most_recent_pwversion.pw_number.value_counts()"
   ]
  },
  {
   "cell_type": "code",
   "execution_count": 54,
   "id": "094dc79e",
   "metadata": {},
   "outputs": [],
   "source": [
    "# Save most recent version into a new csv files.\n",
    "\n",
    "most_recent_pwversion.to_csv('clean_Table1_Obligated_Projects.csv')"
   ]
  },
  {
   "cell_type": "code",
   "execution_count": 55,
   "id": "f24cb57c",
   "metadata": {},
   "outputs": [],
   "source": [
    "dfc = pd.read_csv('clean_Table1_Obligated_Projects.csv')"
   ]
  },
  {
   "cell_type": "code",
   "execution_count": 58,
   "id": "a7c51724",
   "metadata": {},
   "outputs": [
    {
     "data": {
      "text/html": [
       "<div>\n",
       "<style scoped>\n",
       "    .dataframe tbody tr th:only-of-type {\n",
       "        vertical-align: middle;\n",
       "    }\n",
       "\n",
       "    .dataframe tbody tr th {\n",
       "        vertical-align: top;\n",
       "    }\n",
       "\n",
       "    .dataframe thead th {\n",
       "        text-align: right;\n",
       "    }\n",
       "</style>\n",
       "<table border=\"1\" class=\"dataframe\">\n",
       "  <thead>\n",
       "    <tr style=\"text-align: right;\">\n",
       "      <th></th>\n",
       "      <th>Unnamed: 0</th>\n",
       "      <th>pw_number</th>\n",
       "      <th>version</th>\n",
       "      <th>disaster_name</th>\n",
       "      <th>applicant_name</th>\n",
       "      <th>applicant_abbreviation</th>\n",
       "      <th>applicant_type</th>\n",
       "      <th>FEMA_branch</th>\n",
       "      <th>sector</th>\n",
       "      <th>category</th>\n",
       "      <th>pw_description</th>\n",
       "      <th>obligated_date</th>\n",
       "      <th>latest_payment _date</th>\n",
       "      <th>obligated_amount</th>\n",
       "      <th>disbursed_amount</th>\n",
       "      <th>cost_share</th>\n",
       "      <th>project_cost</th>\n",
       "      <th>last_update_date</th>\n",
       "    </tr>\n",
       "  </thead>\n",
       "  <tbody>\n",
       "    <tr>\n",
       "      <th>2001</th>\n",
       "      <td>2334</td>\n",
       "      <td>PA-02-PR-4339-PW-11158</td>\n",
       "      <td>0</td>\n",
       "      <td>Hurricane Maria (4339)</td>\n",
       "      <td>Manatí</td>\n",
       "      <td>NaN</td>\n",
       "      <td>Municipality</td>\n",
       "      <td>Branch II - North</td>\n",
       "      <td>Municipalities</td>\n",
       "      <td>Category G - Parks, Recreational, Others</td>\n",
       "      <td>107768 - P107768-DR4339PR-MANATI-PARQUE PELOTA...</td>\n",
       "      <td>01/03/2023</td>\n",
       "      <td>01/11/2023</td>\n",
       "      <td>6314</td>\n",
       "      <td>6314</td>\n",
       "      <td>702</td>\n",
       "      <td>7016</td>\n",
       "      <td>06/20/2023</td>\n",
       "    </tr>\n",
       "    <tr>\n",
       "      <th>2002</th>\n",
       "      <td>2335</td>\n",
       "      <td>PA-02-PR-4339-PW-11161</td>\n",
       "      <td>0</td>\n",
       "      <td>Hurricane Maria (4339)</td>\n",
       "      <td>Ponce</td>\n",
       "      <td>NaN</td>\n",
       "      <td>Municipality</td>\n",
       "      <td>Branch IV - South</td>\n",
       "      <td>Municipalities</td>\n",
       "      <td>Category G - Parks, Recreational, Others</td>\n",
       "      <td>79986 - MPON826- Julio E. Monagas Park (Global)</td>\n",
       "      <td>01/19/2023</td>\n",
       "      <td>NaN</td>\n",
       "      <td>8781159</td>\n",
       "      <td>0</td>\n",
       "      <td>975684</td>\n",
       "      <td>9756843</td>\n",
       "      <td>06/20/2023</td>\n",
       "    </tr>\n",
       "    <tr>\n",
       "      <th>2003</th>\n",
       "      <td>2336</td>\n",
       "      <td>PA-02-PR-4339-PW-11322</td>\n",
       "      <td>0</td>\n",
       "      <td>Hurricane Maria (4339)</td>\n",
       "      <td>Río Grande</td>\n",
       "      <td>NaN</td>\n",
       "      <td>Municipality</td>\n",
       "      <td>Branch III - East</td>\n",
       "      <td>Municipalities</td>\n",
       "      <td>Category G - Parks, Recreational, Others</td>\n",
       "      <td>106112 - (Escuela Vega ALEGRE-)MRIO005 - Proje...</td>\n",
       "      <td>05/15/2023</td>\n",
       "      <td>NaN</td>\n",
       "      <td>3158805</td>\n",
       "      <td>0</td>\n",
       "      <td>350978</td>\n",
       "      <td>3509783</td>\n",
       "      <td>06/20/2023</td>\n",
       "    </tr>\n",
       "    <tr>\n",
       "      <th>2004</th>\n",
       "      <td>2337</td>\n",
       "      <td>PA-02-PR-4339-PW-11324</td>\n",
       "      <td>0</td>\n",
       "      <td>Hurricane Maria (4339)</td>\n",
       "      <td>San Sebastián</td>\n",
       "      <td>NaN</td>\n",
       "      <td>Municipality</td>\n",
       "      <td>Branch II - North</td>\n",
       "      <td>Municipalities</td>\n",
       "      <td>Category G - Parks, Recreational, Others</td>\n",
       "      <td>110370 - MSSM056-Multiple Recreational Parks a...</td>\n",
       "      <td>04/19/2023</td>\n",
       "      <td>05/08/2023</td>\n",
       "      <td>5734</td>\n",
       "      <td>5734</td>\n",
       "      <td>637</td>\n",
       "      <td>6371</td>\n",
       "      <td>06/20/2023</td>\n",
       "    </tr>\n",
       "    <tr>\n",
       "      <th>2005</th>\n",
       "      <td>2338</td>\n",
       "      <td>PA-02-PR-4339-PW-11370</td>\n",
       "      <td>0</td>\n",
       "      <td>Hurricane Maria (4339)</td>\n",
       "      <td>Río Grande</td>\n",
       "      <td>NaN</td>\n",
       "      <td>Municipality</td>\n",
       "      <td>Branch III - East</td>\n",
       "      <td>Municipalities</td>\n",
       "      <td>Category G - Parks, Recreational, Others</td>\n",
       "      <td>105669 - Palmer Recreational &amp; Community Facil...</td>\n",
       "      <td>05/29/2023</td>\n",
       "      <td>NaN</td>\n",
       "      <td>856580</td>\n",
       "      <td>0</td>\n",
       "      <td>95176</td>\n",
       "      <td>951756</td>\n",
       "      <td>06/20/2023</td>\n",
       "    </tr>\n",
       "  </tbody>\n",
       "</table>\n",
       "</div>"
      ],
      "text/plain": [
       "      Unnamed: 0               pw_number  version           disaster_name  \\\n",
       "2001        2334  PA-02-PR-4339-PW-11158        0  Hurricane Maria (4339)   \n",
       "2002        2335  PA-02-PR-4339-PW-11161        0  Hurricane Maria (4339)   \n",
       "2003        2336  PA-02-PR-4339-PW-11322        0  Hurricane Maria (4339)   \n",
       "2004        2337  PA-02-PR-4339-PW-11324        0  Hurricane Maria (4339)   \n",
       "2005        2338  PA-02-PR-4339-PW-11370        0  Hurricane Maria (4339)   \n",
       "\n",
       "     applicant_name applicant_abbreviation applicant_type        FEMA_branch  \\\n",
       "2001         Manatí                    NaN   Municipality  Branch II - North   \n",
       "2002          Ponce                    NaN   Municipality  Branch IV - South   \n",
       "2003     Río Grande                    NaN   Municipality  Branch III - East   \n",
       "2004  San Sebastián                    NaN   Municipality  Branch II - North   \n",
       "2005     Río Grande                    NaN   Municipality  Branch III - East   \n",
       "\n",
       "              sector                                  category  \\\n",
       "2001  Municipalities  Category G - Parks, Recreational, Others   \n",
       "2002  Municipalities  Category G - Parks, Recreational, Others   \n",
       "2003  Municipalities  Category G - Parks, Recreational, Others   \n",
       "2004  Municipalities  Category G - Parks, Recreational, Others   \n",
       "2005  Municipalities  Category G - Parks, Recreational, Others   \n",
       "\n",
       "                                         pw_description obligated_date  \\\n",
       "2001  107768 - P107768-DR4339PR-MANATI-PARQUE PELOTA...     01/03/2023   \n",
       "2002    79986 - MPON826- Julio E. Monagas Park (Global)     01/19/2023   \n",
       "2003  106112 - (Escuela Vega ALEGRE-)MRIO005 - Proje...     05/15/2023   \n",
       "2004  110370 - MSSM056-Multiple Recreational Parks a...     04/19/2023   \n",
       "2005  105669 - Palmer Recreational & Community Facil...     05/29/2023   \n",
       "\n",
       "     latest_payment _date  obligated_amount  disbursed_amount  cost_share  \\\n",
       "2001           01/11/2023              6314              6314         702   \n",
       "2002                  NaN           8781159                 0      975684   \n",
       "2003                  NaN           3158805                 0      350978   \n",
       "2004           05/08/2023              5734              5734         637   \n",
       "2005                  NaN            856580                 0       95176   \n",
       "\n",
       "      project_cost last_update_date  \n",
       "2001          7016       06/20/2023  \n",
       "2002       9756843       06/20/2023  \n",
       "2003       3509783       06/20/2023  \n",
       "2004          6371       06/20/2023  \n",
       "2005        951756       06/20/2023  "
      ]
     },
     "execution_count": 58,
     "metadata": {},
     "output_type": "execute_result"
    }
   ],
   "source": [
    "#Now I have a cleaned dataframe, so I can answer the questions.\n",
    "dfc.tail()"
   ]
  },
  {
   "attachments": {},
   "cell_type": "markdown",
   "id": "977219e9",
   "metadata": {},
   "source": [
    "### Data Analysis"
   ]
  },
  {
   "cell_type": "code",
   "execution_count": 65,
   "id": "341d9d49",
   "metadata": {},
   "outputs": [
    {
     "data": {
      "text/plain": [
       "741637301"
      ]
     },
     "execution_count": 65,
     "metadata": {},
     "output_type": "execute_result"
    }
   ],
   "source": [
    "# What is the total amount obligated?\n",
    "\n",
    "total_obligated = dfc[\"obligated_amount\"].sum()\n",
    "total_obligated"
   ]
  },
  {
   "cell_type": "code",
   "execution_count": 64,
   "id": "cdc4ed33",
   "metadata": {},
   "outputs": [
    {
     "data": {
      "text/plain": [
       "116420836"
      ]
     },
     "execution_count": 64,
     "metadata": {},
     "output_type": "execute_result"
    }
   ],
   "source": [
    "# What is the total amount disbursed?\n",
    "total_disbursed = dfc[\"disbursed_amount\"].sum()\n",
    "total_disbursed"
   ]
  },
  {
   "cell_type": "code",
   "execution_count": 66,
   "id": "bb813639",
   "metadata": {},
   "outputs": [
    {
     "data": {
      "text/plain": [
       "15.697812912460291"
      ]
     },
     "execution_count": 66,
     "metadata": {},
     "output_type": "execute_result"
    }
   ],
   "source": [
    "# What percent is that?\n",
    "total_disbursed / total_obligated * 100\n",
    "\n"
   ]
  },
  {
   "cell_type": "code",
   "execution_count": 67,
   "id": "db26c345",
   "metadata": {},
   "outputs": [
    {
     "data": {
      "text/plain": [
       "0      -0.0\n",
       "1      -0.0\n",
       "2      -0.0\n",
       "3      -0.0\n",
       "4      -0.0\n",
       "       ... \n",
       "2001    1.0\n",
       "2002    0.0\n",
       "2003    0.0\n",
       "2004    1.0\n",
       "2005    0.0\n",
       "Length: 2006, dtype: float64"
      ]
     },
     "execution_count": 67,
     "metadata": {},
     "output_type": "execute_result"
    }
   ],
   "source": [
    "#What is the percent of amount disbursed for each project? Save it into a new column.\n",
    "dfc.disbursed_amount / dfc.obligated_amount\n"
   ]
  },
  {
   "cell_type": "code",
   "execution_count": 70,
   "id": "49dca141",
   "metadata": {},
   "outputs": [],
   "source": [
    "dfc[\"percent disbursed\"] = dfc.disbursed_amount / dfc.obligated_amount"
   ]
  },
  {
   "cell_type": "code",
   "execution_count": 72,
   "id": "5db4c69a",
   "metadata": {},
   "outputs": [
    {
     "data": {
      "text/html": [
       "<div>\n",
       "<style scoped>\n",
       "    .dataframe tbody tr th:only-of-type {\n",
       "        vertical-align: middle;\n",
       "    }\n",
       "\n",
       "    .dataframe tbody tr th {\n",
       "        vertical-align: top;\n",
       "    }\n",
       "\n",
       "    .dataframe thead th {\n",
       "        text-align: right;\n",
       "    }\n",
       "</style>\n",
       "<table border=\"1\" class=\"dataframe\">\n",
       "  <thead>\n",
       "    <tr style=\"text-align: right;\">\n",
       "      <th></th>\n",
       "      <th>Unnamed: 0</th>\n",
       "      <th>pw_number</th>\n",
       "      <th>version</th>\n",
       "      <th>disaster_name</th>\n",
       "      <th>applicant_name</th>\n",
       "      <th>applicant_abbreviation</th>\n",
       "      <th>applicant_type</th>\n",
       "      <th>FEMA_branch</th>\n",
       "      <th>sector</th>\n",
       "      <th>category</th>\n",
       "      <th>pw_description</th>\n",
       "      <th>obligated_date</th>\n",
       "      <th>latest_payment _date</th>\n",
       "      <th>obligated_amount</th>\n",
       "      <th>disbursed_amount</th>\n",
       "      <th>cost_share</th>\n",
       "      <th>project_cost</th>\n",
       "      <th>last_update_date</th>\n",
       "      <th>percent disbursed</th>\n",
       "    </tr>\n",
       "  </thead>\n",
       "  <tbody>\n",
       "    <tr>\n",
       "      <th>2001</th>\n",
       "      <td>2334</td>\n",
       "      <td>PA-02-PR-4339-PW-11158</td>\n",
       "      <td>0</td>\n",
       "      <td>Hurricane Maria (4339)</td>\n",
       "      <td>Manatí</td>\n",
       "      <td>NaN</td>\n",
       "      <td>Municipality</td>\n",
       "      <td>Branch II - North</td>\n",
       "      <td>Municipalities</td>\n",
       "      <td>Category G - Parks, Recreational, Others</td>\n",
       "      <td>107768 - P107768-DR4339PR-MANATI-PARQUE PELOTA...</td>\n",
       "      <td>01/03/2023</td>\n",
       "      <td>01/11/2023</td>\n",
       "      <td>6314</td>\n",
       "      <td>6314</td>\n",
       "      <td>702</td>\n",
       "      <td>7016</td>\n",
       "      <td>06/20/2023</td>\n",
       "      <td>1.0</td>\n",
       "    </tr>\n",
       "    <tr>\n",
       "      <th>2002</th>\n",
       "      <td>2335</td>\n",
       "      <td>PA-02-PR-4339-PW-11161</td>\n",
       "      <td>0</td>\n",
       "      <td>Hurricane Maria (4339)</td>\n",
       "      <td>Ponce</td>\n",
       "      <td>NaN</td>\n",
       "      <td>Municipality</td>\n",
       "      <td>Branch IV - South</td>\n",
       "      <td>Municipalities</td>\n",
       "      <td>Category G - Parks, Recreational, Others</td>\n",
       "      <td>79986 - MPON826- Julio E. Monagas Park (Global)</td>\n",
       "      <td>01/19/2023</td>\n",
       "      <td>NaN</td>\n",
       "      <td>8781159</td>\n",
       "      <td>0</td>\n",
       "      <td>975684</td>\n",
       "      <td>9756843</td>\n",
       "      <td>06/20/2023</td>\n",
       "      <td>0.0</td>\n",
       "    </tr>\n",
       "    <tr>\n",
       "      <th>2003</th>\n",
       "      <td>2336</td>\n",
       "      <td>PA-02-PR-4339-PW-11322</td>\n",
       "      <td>0</td>\n",
       "      <td>Hurricane Maria (4339)</td>\n",
       "      <td>Río Grande</td>\n",
       "      <td>NaN</td>\n",
       "      <td>Municipality</td>\n",
       "      <td>Branch III - East</td>\n",
       "      <td>Municipalities</td>\n",
       "      <td>Category G - Parks, Recreational, Others</td>\n",
       "      <td>106112 - (Escuela Vega ALEGRE-)MRIO005 - Proje...</td>\n",
       "      <td>05/15/2023</td>\n",
       "      <td>NaN</td>\n",
       "      <td>3158805</td>\n",
       "      <td>0</td>\n",
       "      <td>350978</td>\n",
       "      <td>3509783</td>\n",
       "      <td>06/20/2023</td>\n",
       "      <td>0.0</td>\n",
       "    </tr>\n",
       "    <tr>\n",
       "      <th>2004</th>\n",
       "      <td>2337</td>\n",
       "      <td>PA-02-PR-4339-PW-11324</td>\n",
       "      <td>0</td>\n",
       "      <td>Hurricane Maria (4339)</td>\n",
       "      <td>San Sebastián</td>\n",
       "      <td>NaN</td>\n",
       "      <td>Municipality</td>\n",
       "      <td>Branch II - North</td>\n",
       "      <td>Municipalities</td>\n",
       "      <td>Category G - Parks, Recreational, Others</td>\n",
       "      <td>110370 - MSSM056-Multiple Recreational Parks a...</td>\n",
       "      <td>04/19/2023</td>\n",
       "      <td>05/08/2023</td>\n",
       "      <td>5734</td>\n",
       "      <td>5734</td>\n",
       "      <td>637</td>\n",
       "      <td>6371</td>\n",
       "      <td>06/20/2023</td>\n",
       "      <td>1.0</td>\n",
       "    </tr>\n",
       "    <tr>\n",
       "      <th>2005</th>\n",
       "      <td>2338</td>\n",
       "      <td>PA-02-PR-4339-PW-11370</td>\n",
       "      <td>0</td>\n",
       "      <td>Hurricane Maria (4339)</td>\n",
       "      <td>Río Grande</td>\n",
       "      <td>NaN</td>\n",
       "      <td>Municipality</td>\n",
       "      <td>Branch III - East</td>\n",
       "      <td>Municipalities</td>\n",
       "      <td>Category G - Parks, Recreational, Others</td>\n",
       "      <td>105669 - Palmer Recreational &amp; Community Facil...</td>\n",
       "      <td>05/29/2023</td>\n",
       "      <td>NaN</td>\n",
       "      <td>856580</td>\n",
       "      <td>0</td>\n",
       "      <td>95176</td>\n",
       "      <td>951756</td>\n",
       "      <td>06/20/2023</td>\n",
       "      <td>0.0</td>\n",
       "    </tr>\n",
       "  </tbody>\n",
       "</table>\n",
       "</div>"
      ],
      "text/plain": [
       "      Unnamed: 0               pw_number  version           disaster_name  \\\n",
       "2001        2334  PA-02-PR-4339-PW-11158        0  Hurricane Maria (4339)   \n",
       "2002        2335  PA-02-PR-4339-PW-11161        0  Hurricane Maria (4339)   \n",
       "2003        2336  PA-02-PR-4339-PW-11322        0  Hurricane Maria (4339)   \n",
       "2004        2337  PA-02-PR-4339-PW-11324        0  Hurricane Maria (4339)   \n",
       "2005        2338  PA-02-PR-4339-PW-11370        0  Hurricane Maria (4339)   \n",
       "\n",
       "     applicant_name applicant_abbreviation applicant_type        FEMA_branch  \\\n",
       "2001         Manatí                    NaN   Municipality  Branch II - North   \n",
       "2002          Ponce                    NaN   Municipality  Branch IV - South   \n",
       "2003     Río Grande                    NaN   Municipality  Branch III - East   \n",
       "2004  San Sebastián                    NaN   Municipality  Branch II - North   \n",
       "2005     Río Grande                    NaN   Municipality  Branch III - East   \n",
       "\n",
       "              sector                                  category  \\\n",
       "2001  Municipalities  Category G - Parks, Recreational, Others   \n",
       "2002  Municipalities  Category G - Parks, Recreational, Others   \n",
       "2003  Municipalities  Category G - Parks, Recreational, Others   \n",
       "2004  Municipalities  Category G - Parks, Recreational, Others   \n",
       "2005  Municipalities  Category G - Parks, Recreational, Others   \n",
       "\n",
       "                                         pw_description obligated_date  \\\n",
       "2001  107768 - P107768-DR4339PR-MANATI-PARQUE PELOTA...     01/03/2023   \n",
       "2002    79986 - MPON826- Julio E. Monagas Park (Global)     01/19/2023   \n",
       "2003  106112 - (Escuela Vega ALEGRE-)MRIO005 - Proje...     05/15/2023   \n",
       "2004  110370 - MSSM056-Multiple Recreational Parks a...     04/19/2023   \n",
       "2005  105669 - Palmer Recreational & Community Facil...     05/29/2023   \n",
       "\n",
       "     latest_payment _date  obligated_amount  disbursed_amount  cost_share  \\\n",
       "2001           01/11/2023              6314              6314         702   \n",
       "2002                  NaN           8781159                 0      975684   \n",
       "2003                  NaN           3158805                 0      350978   \n",
       "2004           05/08/2023              5734              5734         637   \n",
       "2005                  NaN            856580                 0       95176   \n",
       "\n",
       "      project_cost last_update_date  percent disbursed  \n",
       "2001          7016       06/20/2023                1.0  \n",
       "2002       9756843       06/20/2023                0.0  \n",
       "2003       3509783       06/20/2023                0.0  \n",
       "2004          6371       06/20/2023                1.0  \n",
       "2005        951756       06/20/2023                0.0  "
      ]
     },
     "execution_count": 72,
     "metadata": {},
     "output_type": "execute_result"
    }
   ],
   "source": [
    "dfc.tail()"
   ]
  },
  {
   "cell_type": "code",
   "execution_count": 75,
   "id": "3931ecd3",
   "metadata": {},
   "outputs": [
    {
     "data": {
      "text/plain": [
       "disbursed_amount\n",
       "0        868\n",
       "7311       2\n",
       "41081      2\n",
       "83610      2\n",
       "6724       2\n",
       "        ... \n",
       "63283      1\n",
       "18776      1\n",
       "25768      1\n",
       "97706      1\n",
       "5734       1\n",
       "Name: count, Length: 1131, dtype: int64"
      ]
     },
     "execution_count": 75,
     "metadata": {},
     "output_type": "execute_result"
    }
   ],
   "source": [
    "# For how many projects, the disbursed amount is 0?\n",
    "dfc.disbursed_amount.value_counts()"
   ]
  },
  {
   "cell_type": "code",
   "execution_count": 84,
   "id": "2c6ef806",
   "metadata": {},
   "outputs": [
    {
     "data": {
      "text/plain": [
       "applicant_name\n",
       "Adjuntas         2688692\n",
       "Aguada            850742\n",
       "Aguadilla       12787286\n",
       "Aguas Buenas     8351125\n",
       "Aibonito         5738765\n",
       "                  ...   \n",
       "Vega Baja       12216073\n",
       "Vieques          4032875\n",
       "Villalba        16857887\n",
       "Yabucoa         40297453\n",
       "Yauco            9071989\n",
       "Name: obligated_amount, Length: 78, dtype: int64"
      ]
     },
     "execution_count": 84,
     "metadata": {},
     "output_type": "execute_result"
    }
   ],
   "source": [
    "# Now, I can say \"The recovery projects of Santa Juana —the cultural center and the park— are two of 868 projects \n",
    "# in the town of Caguas that have been obligated but the funds haven’t been disbursed.\n",
    "# But I also want to know specifically the percent of money disbursed for every municipality, \n",
    "# so I can compare my town of Caguas with the others.\n",
    "\n",
    "obligated_by_municipality = dfc.groupby(by='applicant_name').obligated_amount.sum()\n",
    "obligated_by_municipality\n"
   ]
  },
  {
   "cell_type": "code",
   "execution_count": 85,
   "metadata": {},
   "outputs": [
    {
     "data": {
      "text/plain": [
       "applicant_name\n",
       "Adjuntas          270050\n",
       "Aguada            482249\n",
       "Aguadilla         706210\n",
       "Aguas Buenas      164222\n",
       "Aibonito         1226098\n",
       "                  ...   \n",
       "Vega Baja        1664874\n",
       "Vieques           499090\n",
       "Villalba         7603623\n",
       "Yabucoa         12249123\n",
       "Yauco              40519\n",
       "Name: disbursed_amount, Length: 78, dtype: int64"
      ]
     },
     "execution_count": 85,
     "metadata": {},
     "output_type": "execute_result"
    }
   ],
   "source": [
    "disbursed_by_municipality = dfc.groupby(by='applicant_name').disbursed_amount.sum()\n",
    "disbursed_by_municipality"
   ]
  },
  {
   "cell_type": "code",
   "execution_count": 91,
   "id": "33b2e4a4",
   "metadata": {},
   "outputs": [
    {
     "data": {
      "text/plain": [
       "applicant_name\n",
       "Adjuntas        10.043917\n",
       "Aguada          56.685693\n",
       "Aguadilla        5.522751\n",
       "Aguas Buenas     1.966466\n",
       "Aibonito        21.365189\n",
       "                  ...    \n",
       "Vega Baja       13.628553\n",
       "Vieques         12.375539\n",
       "Villalba        45.104247\n",
       "Yabucoa         30.396767\n",
       "Yauco            0.446639\n",
       "Length: 78, dtype: float64"
      ]
     },
     "execution_count": 91,
     "metadata": {},
     "output_type": "execute_result"
    }
   ],
   "source": [
    "percent_of_disbursed_by_mun = disbursed_by_municipality / obligated_by_municipality * 100\n",
    "percent_of_disbursed_by_mun"
   ]
  },
  {
   "cell_type": "code",
   "execution_count": 92,
   "id": "d045bf46",
   "metadata": {},
   "outputs": [
    {
     "data": {
      "text/plain": [
       "applicant_name\n",
       "Maricao        77.206756\n",
       "Camuy          64.506968\n",
       "Peñuelas       61.560056\n",
       "Aguada         56.685693\n",
       "Villalba       45.104247\n",
       "                 ...    \n",
       "Juana Díaz      0.763736\n",
       "Yauco           0.446639\n",
       "Naranjito       0.000000\n",
       "Hormigueros     0.000000\n",
       "Fajardo         0.000000\n",
       "Length: 78, dtype: float64"
      ]
     },
     "execution_count": 92,
     "metadata": {},
     "output_type": "execute_result"
    }
   ],
   "source": [
    "percent_of_disbursed_by_mun.sort_values(ascending=False)"
   ]
  },
  {
   "cell_type": "code",
   "execution_count": 103,
   "id": "c984b316",
   "metadata": {},
   "outputs": [
    {
     "data": {
      "text/html": [
       "<div>\n",
       "<style scoped>\n",
       "    .dataframe tbody tr th:only-of-type {\n",
       "        vertical-align: middle;\n",
       "    }\n",
       "\n",
       "    .dataframe tbody tr th {\n",
       "        vertical-align: top;\n",
       "    }\n",
       "\n",
       "    .dataframe thead th {\n",
       "        text-align: right;\n",
       "    }\n",
       "</style>\n",
       "<table border=\"1\" class=\"dataframe\">\n",
       "  <thead>\n",
       "    <tr style=\"text-align: right;\">\n",
       "      <th></th>\n",
       "      <th>pw_number</th>\n",
       "      <th>version</th>\n",
       "      <th>disaster_name</th>\n",
       "      <th>applicant_name</th>\n",
       "      <th>applicant_abbreviation</th>\n",
       "      <th>applicant_type</th>\n",
       "      <th>FEMA_branch</th>\n",
       "      <th>sector</th>\n",
       "      <th>category</th>\n",
       "      <th>pw_description</th>\n",
       "      <th>obligated_date</th>\n",
       "      <th>latest_payment _date</th>\n",
       "      <th>obligated_amount</th>\n",
       "      <th>disbursed_amount</th>\n",
       "      <th>cost_share</th>\n",
       "      <th>project_cost</th>\n",
       "      <th>last_update_date</th>\n",
       "    </tr>\n",
       "  </thead>\n",
       "  <tbody>\n",
       "    <tr>\n",
       "      <th>0</th>\n",
       "      <td>PA-02-PR-4339-PW-02929</td>\n",
       "      <td>0</td>\n",
       "      <td>Hurricane Maria (4339)</td>\n",
       "      <td>Caguas</td>\n",
       "      <td>NaN</td>\n",
       "      <td>Municipality</td>\n",
       "      <td>Branch III - East</td>\n",
       "      <td>Municipalities</td>\n",
       "      <td>Category G - Parks, Recreational, Others</td>\n",
       "      <td>85722 - MCAG008 Cañaboncito Parcelas - Basketb...</td>\n",
       "      <td>05/18/2020</td>\n",
       "      <td>06/02/2020</td>\n",
       "      <td>40002</td>\n",
       "      <td>40002</td>\n",
       "      <td>4445</td>\n",
       "      <td>44447</td>\n",
       "      <td>06/20/2023</td>\n",
       "    </tr>\n",
       "    <tr>\n",
       "      <th>1</th>\n",
       "      <td>PA-02-PR-4339-PW-03290</td>\n",
       "      <td>0</td>\n",
       "      <td>Hurricane Maria (4339)</td>\n",
       "      <td>Caguas</td>\n",
       "      <td>NaN</td>\n",
       "      <td>Municipality</td>\n",
       "      <td>Branch III - East</td>\n",
       "      <td>Municipalities</td>\n",
       "      <td>Category G - Parks, Recreational, Others</td>\n",
       "      <td>85724 - MCAG009 Pozo Dulce - Basketball Court</td>\n",
       "      <td>05/18/2020</td>\n",
       "      <td>06/03/2020</td>\n",
       "      <td>21885</td>\n",
       "      <td>21885</td>\n",
       "      <td>2432</td>\n",
       "      <td>24317</td>\n",
       "      <td>06/20/2023</td>\n",
       "    </tr>\n",
       "    <tr>\n",
       "      <th>2</th>\n",
       "      <td>PA-02-PR-4339-PW-04008</td>\n",
       "      <td>0</td>\n",
       "      <td>Hurricane Maria (4339)</td>\n",
       "      <td>Caguas</td>\n",
       "      <td>NaN</td>\n",
       "      <td>Municipality</td>\n",
       "      <td>Branch III - East</td>\n",
       "      <td>Municipalities</td>\n",
       "      <td>Category G - Parks, Recreational, Others</td>\n",
       "      <td>85720 - MCAG007 Borinquen Parcelas Viejas - Ba...</td>\n",
       "      <td>07/17/2020</td>\n",
       "      <td>08/10/2020</td>\n",
       "      <td>27835</td>\n",
       "      <td>27835</td>\n",
       "      <td>3093</td>\n",
       "      <td>30928</td>\n",
       "      <td>06/20/2023</td>\n",
       "    </tr>\n",
       "    <tr>\n",
       "      <th>3</th>\n",
       "      <td>PA-02-PR-4339-PW-04158</td>\n",
       "      <td>0</td>\n",
       "      <td>Hurricane Maria (4339)</td>\n",
       "      <td>Caguas</td>\n",
       "      <td>NaN</td>\n",
       "      <td>Municipality</td>\n",
       "      <td>Branch III - East</td>\n",
       "      <td>Municipalities</td>\n",
       "      <td>Category G - Parks, Recreational, Others</td>\n",
       "      <td>106961 - MCAG076 - AOB Sport Complex - Covered...</td>\n",
       "      <td>10/08/2020</td>\n",
       "      <td>NaN</td>\n",
       "      <td>1388521</td>\n",
       "      <td>0</td>\n",
       "      <td>154280</td>\n",
       "      <td>1542801</td>\n",
       "      <td>06/20/2023</td>\n",
       "    </tr>\n",
       "    <tr>\n",
       "      <th>4</th>\n",
       "      <td>PA-02-PR-4339-PW-04261</td>\n",
       "      <td>0</td>\n",
       "      <td>Hurricane Maria (4339)</td>\n",
       "      <td>Caguas</td>\n",
       "      <td>NaN</td>\n",
       "      <td>Municipality</td>\n",
       "      <td>Branch III - East</td>\n",
       "      <td>Municipalities</td>\n",
       "      <td>Category G - Parks, Recreational, Others</td>\n",
       "      <td>108165 - MCAG156 - Yldefonso Morales Baseball ...</td>\n",
       "      <td>08/31/2020</td>\n",
       "      <td>06/13/2023</td>\n",
       "      <td>3799469</td>\n",
       "      <td>2469725</td>\n",
       "      <td>422163</td>\n",
       "      <td>4221632</td>\n",
       "      <td>06/20/2023</td>\n",
       "    </tr>\n",
       "  </tbody>\n",
       "</table>\n",
       "</div>"
      ],
      "text/plain": [
       "                pw_number  version           disaster_name applicant_name  \\\n",
       "0  PA-02-PR-4339-PW-02929        0  Hurricane Maria (4339)         Caguas   \n",
       "1  PA-02-PR-4339-PW-03290        0  Hurricane Maria (4339)         Caguas   \n",
       "2  PA-02-PR-4339-PW-04008        0  Hurricane Maria (4339)         Caguas   \n",
       "3  PA-02-PR-4339-PW-04158        0  Hurricane Maria (4339)         Caguas   \n",
       "4  PA-02-PR-4339-PW-04261        0  Hurricane Maria (4339)         Caguas   \n",
       "\n",
       "   applicant_abbreviation applicant_type        FEMA_branch          sector  \\\n",
       "0                     NaN   Municipality  Branch III - East  Municipalities   \n",
       "1                     NaN   Municipality  Branch III - East  Municipalities   \n",
       "2                     NaN   Municipality  Branch III - East  Municipalities   \n",
       "3                     NaN   Municipality  Branch III - East  Municipalities   \n",
       "4                     NaN   Municipality  Branch III - East  Municipalities   \n",
       "\n",
       "                                   category  \\\n",
       "0  Category G - Parks, Recreational, Others   \n",
       "1  Category G - Parks, Recreational, Others   \n",
       "2  Category G - Parks, Recreational, Others   \n",
       "3  Category G - Parks, Recreational, Others   \n",
       "4  Category G - Parks, Recreational, Others   \n",
       "\n",
       "                                      pw_description obligated_date  \\\n",
       "0  85722 - MCAG008 Cañaboncito Parcelas - Basketb...     05/18/2020   \n",
       "1      85724 - MCAG009 Pozo Dulce - Basketball Court     05/18/2020   \n",
       "2  85720 - MCAG007 Borinquen Parcelas Viejas - Ba...     07/17/2020   \n",
       "3  106961 - MCAG076 - AOB Sport Complex - Covered...     10/08/2020   \n",
       "4  108165 - MCAG156 - Yldefonso Morales Baseball ...     08/31/2020   \n",
       "\n",
       "  latest_payment _date  obligated_amount  disbursed_amount  cost_share  \\\n",
       "0           06/02/2020             40002             40002        4445   \n",
       "1           06/03/2020             21885             21885        2432   \n",
       "2           08/10/2020             27835             27835        3093   \n",
       "3                  NaN           1388521                 0      154280   \n",
       "4           06/13/2023           3799469           2469725      422163   \n",
       "\n",
       "   project_cost last_update_date  \n",
       "0         44447       06/20/2023  \n",
       "1         24317       06/20/2023  \n",
       "2         30928       06/20/2023  \n",
       "3       1542801       06/20/2023  \n",
       "4       4221632       06/20/2023  "
      ]
     },
     "execution_count": 103,
     "metadata": {},
     "output_type": "execute_result"
    }
   ],
   "source": [
    "# What about Caguas?\n",
    "dfCaguas = pd.read_csv('Table2_Caguas_Obligated_Projects.csv')\n",
    "\n",
    "dfCaguas.head()"
   ]
  },
  {
   "cell_type": "code",
   "execution_count": 104,
   "id": "4d4bfda7",
   "metadata": {},
   "outputs": [
    {
     "data": {
      "text/plain": [
       "applicant_name\n",
       "Caguas    45\n",
       "Name: count, dtype: int64"
      ]
     },
     "execution_count": 104,
     "metadata": {},
     "output_type": "execute_result"
    }
   ],
   "source": [
    "#How many obligated projects does Caguas has?\n",
    "dfCaguas.applicant_name.value_counts()\n",
    "\n",
    "\n",
    "# Is Caguas doing better or worst than the rest of Puerto Rico?\n",
    "#Average para la suma de los 78 municipios\n",
    "#Caguas\n",
    "\n",
    "# How many days have passed?"
   ]
  },
  {
   "cell_type": "code",
   "execution_count": 106,
   "id": "13df495d",
   "metadata": {},
   "outputs": [
    {
     "data": {
      "text/plain": [
       "25120272"
      ]
     },
     "execution_count": 106,
     "metadata": {},
     "output_type": "execute_result"
    }
   ],
   "source": [
    "# What is the total amount obligated for Caguas?\n",
    "Caguas_total_obligated = dfCaguas[\"obligated_amount\"].sum()\n",
    "Caguas_total_obligated\n"
   ]
  },
  {
   "cell_type": "code",
   "execution_count": 107,
   "id": "0c0c7632",
   "metadata": {},
   "outputs": [
    {
     "data": {
      "text/plain": [
       "3003583"
      ]
     },
     "execution_count": 107,
     "metadata": {},
     "output_type": "execute_result"
    }
   ],
   "source": [
    "# What is the total amount disbursed?\n",
    "\n",
    "Caguas_total_disbursed = dfCaguas[\"disbursed_amount\"].sum()\n",
    "Caguas_total_disbursed\n",
    "\n",
    "\n",
    "# For how many projects, the disbursed amount is 0?\n",
    "#How does that compare with the average in Puerto Rico?"
   ]
  },
  {
   "cell_type": "code",
   "execution_count": 108,
   "id": "d58a524d",
   "metadata": {},
   "outputs": [
    {
     "data": {
      "text/plain": [
       "11.95680922563259"
      ]
     },
     "execution_count": 108,
     "metadata": {},
     "output_type": "execute_result"
    }
   ],
   "source": [
    "# What percent is that?\n",
    "Caguas_total_disbursed / Caguas_total_obligated * 100"
   ]
  },
  {
   "cell_type": "code",
   "execution_count": 110,
   "id": "ebaa9e8b",
   "metadata": {},
   "outputs": [
    {
     "data": {
      "text/plain": [
       "disbursed_amount\n",
       "0          37\n",
       "40002       1\n",
       "21885       1\n",
       "27835       1\n",
       "2469725     1\n",
       "202211      1\n",
       "60788       1\n",
       "165462      1\n",
       "15675       1\n",
       "Name: count, dtype: int64"
      ]
     },
     "execution_count": 110,
     "metadata": {},
     "output_type": "execute_result"
    }
   ],
   "source": [
    "# For how many projects, the disbursed amount is 0?\n",
    "dfCaguas.disbursed_amount.value_counts()\n"
   ]
  },
  {
   "cell_type": "code",
   "execution_count": null,
   "id": "418ec91d",
   "metadata": {},
   "outputs": [],
   "source": []
  }
 ],
 "metadata": {
  "kernelspec": {
   "display_name": "Python 3 (ipykernel)",
   "language": "python",
   "name": "python3"
  },
  "language_info": {
   "codemirror_mode": {
    "name": "ipython",
    "version": 3
   },
   "file_extension": ".py",
   "mimetype": "text/x-python",
   "name": "python",
   "nbconvert_exporter": "python",
   "pygments_lexer": "ipython3",
   "version": "3.10.11"
  }
 },
 "nbformat": 4,
 "nbformat_minor": 5
}
